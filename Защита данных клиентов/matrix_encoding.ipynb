{
 "cells": [
  {
   "cell_type": "markdown",
   "metadata": {},
   "source": [
    "# Matrix encoding"
   ]
  },
  {
   "cell_type": "markdown",
   "metadata": {
    "toc": true
   },
   "source": [
    "<h1>Содержание<span class=\"tocSkip\"></span></h1>\n",
    "<div class=\"toc\"><ul class=\"toc-item\"><li><span><a href=\"#Импорт-библиотек\" data-toc-modified-id=\"Импорт-библиотек-1\"><span class=\"toc-item-num\">1&nbsp;&nbsp;</span>Импорт библиотек</a></span></li><li><span><a href=\"#Загрузка-данных\" data-toc-modified-id=\"Загрузка-данных-2\"><span class=\"toc-item-num\">2&nbsp;&nbsp;</span>Загрузка данных</a></span></li><li><span><a href=\"#Умножение-матриц\" data-toc-modified-id=\"Умножение-матриц-3\"><span class=\"toc-item-num\">3&nbsp;&nbsp;</span>Умножение матриц</a></span></li><li><span><a href=\"#Алгоритм-преобразования\" data-toc-modified-id=\"Алгоритм-преобразования-4\"><span class=\"toc-item-num\">4&nbsp;&nbsp;</span>Алгоритм преобразования</a></span><ul class=\"toc-item\"><li><span><a href=\"#Описание-алгоритма\" data-toc-modified-id=\"Описание-алгоритма-4.1\"><span class=\"toc-item-num\">4.1&nbsp;&nbsp;</span>Описание алгоритма</a></span></li></ul></li><li><span><a href=\"#Проверка-алгоритма\" data-toc-modified-id=\"Проверка-алгоритма-5\"><span class=\"toc-item-num\">5&nbsp;&nbsp;</span>Проверка алгоритма</a></span><ul class=\"toc-item\"><li><span><a href=\"#Кодирование\" data-toc-modified-id=\"Кодирование-5.1\"><span class=\"toc-item-num\">5.1&nbsp;&nbsp;</span>Кодирование</a></span></li><li><span><a href=\"#Декодирование\" data-toc-modified-id=\"Декодирование-5.2\"><span class=\"toc-item-num\">5.2&nbsp;&nbsp;</span>Декодирование</a></span></li><li><span><a href=\"#Проверка-на-модели-ML\" data-toc-modified-id=\"Проверка-на-модели-ML-5.3\"><span class=\"toc-item-num\">5.3&nbsp;&nbsp;</span>Проверка на модели ML</a></span></li></ul></li><li><span><a href=\"#Чек-лист-проверки\" data-toc-modified-id=\"Чек-лист-проверки-6\"><span class=\"toc-item-num\">6&nbsp;&nbsp;</span>Чек-лист проверки</a></span></li></ul></div>"
   ]
  },
  {
   "cell_type": "markdown",
   "metadata": {},
   "source": [
    "# Защита персональных данных клиентов"
   ]
  },
  {
   "cell_type": "markdown",
   "metadata": {},
   "source": [
    "Цель - защитить данные клиентов страховой компании. Применим такой метод преобразования данных, чтобы по ним было сложно восстановить персональную информацию. Обоснуем корректность его работы.\n",
    "\n",
    "Важное условие - нужно защитить данные так, чтобы при преобразовании качество моделей машинного обучения не ухудшилось. Подбирать наилучшую модель не требуется."
   ]
  },
  {
   "cell_type": "markdown",
   "metadata": {},
   "source": [
    "## Импорт библиотек"
   ]
  },
  {
   "cell_type": "code",
   "execution_count": 1,
   "metadata": {},
   "outputs": [],
   "source": [
    "import pandas as pd\n",
    "import numpy as np\n",
    "from scipy.spatial import distance\n",
    "import matplotlib.pyplot as plt\n",
    "\n",
    "from sklearn.linear_model import LinearRegression\n",
    "from sklearn.model_selection import train_test_split\n",
    "from sklearn.metrics import r2_score\n",
    "\n",
    "RANDOM_STATE=12345"
   ]
  },
  {
   "cell_type": "markdown",
   "metadata": {},
   "source": [
    "## Загрузка данных"
   ]
  },
  {
   "cell_type": "code",
   "execution_count": 2,
   "metadata": {},
   "outputs": [],
   "source": [
    "try:\n",
    "    df = pd.read_csv('/datasets/insurance.csv') #путь для ревьюера\n",
    "except FileNotFoundError:\n",
    "    df = pd.read_csv('datasets/insurance.csv')"
   ]
  },
  {
   "cell_type": "code",
   "execution_count": 3,
   "metadata": {},
   "outputs": [
    {
     "data": {
      "text/html": [
       "<div>\n",
       "<style scoped>\n",
       "    .dataframe tbody tr th:only-of-type {\n",
       "        vertical-align: middle;\n",
       "    }\n",
       "\n",
       "    .dataframe tbody tr th {\n",
       "        vertical-align: top;\n",
       "    }\n",
       "\n",
       "    .dataframe thead th {\n",
       "        text-align: right;\n",
       "    }\n",
       "</style>\n",
       "<table border=\"1\" class=\"dataframe\">\n",
       "  <thead>\n",
       "    <tr style=\"text-align: right;\">\n",
       "      <th></th>\n",
       "      <th>Пол</th>\n",
       "      <th>Возраст</th>\n",
       "      <th>Зарплата</th>\n",
       "      <th>Члены семьи</th>\n",
       "      <th>Страховые выплаты</th>\n",
       "    </tr>\n",
       "  </thead>\n",
       "  <tbody>\n",
       "    <tr>\n",
       "      <th>0</th>\n",
       "      <td>1</td>\n",
       "      <td>41.0</td>\n",
       "      <td>49600.0</td>\n",
       "      <td>1</td>\n",
       "      <td>0</td>\n",
       "    </tr>\n",
       "    <tr>\n",
       "      <th>1</th>\n",
       "      <td>0</td>\n",
       "      <td>46.0</td>\n",
       "      <td>38000.0</td>\n",
       "      <td>1</td>\n",
       "      <td>1</td>\n",
       "    </tr>\n",
       "    <tr>\n",
       "      <th>2</th>\n",
       "      <td>0</td>\n",
       "      <td>29.0</td>\n",
       "      <td>21000.0</td>\n",
       "      <td>0</td>\n",
       "      <td>0</td>\n",
       "    </tr>\n",
       "    <tr>\n",
       "      <th>3</th>\n",
       "      <td>0</td>\n",
       "      <td>21.0</td>\n",
       "      <td>41700.0</td>\n",
       "      <td>2</td>\n",
       "      <td>0</td>\n",
       "    </tr>\n",
       "    <tr>\n",
       "      <th>4</th>\n",
       "      <td>1</td>\n",
       "      <td>28.0</td>\n",
       "      <td>26100.0</td>\n",
       "      <td>0</td>\n",
       "      <td>0</td>\n",
       "    </tr>\n",
       "    <tr>\n",
       "      <th>5</th>\n",
       "      <td>1</td>\n",
       "      <td>43.0</td>\n",
       "      <td>41000.0</td>\n",
       "      <td>2</td>\n",
       "      <td>1</td>\n",
       "    </tr>\n",
       "    <tr>\n",
       "      <th>6</th>\n",
       "      <td>1</td>\n",
       "      <td>39.0</td>\n",
       "      <td>39700.0</td>\n",
       "      <td>2</td>\n",
       "      <td>0</td>\n",
       "    </tr>\n",
       "    <tr>\n",
       "      <th>7</th>\n",
       "      <td>1</td>\n",
       "      <td>25.0</td>\n",
       "      <td>38600.0</td>\n",
       "      <td>4</td>\n",
       "      <td>0</td>\n",
       "    </tr>\n",
       "    <tr>\n",
       "      <th>8</th>\n",
       "      <td>1</td>\n",
       "      <td>36.0</td>\n",
       "      <td>49700.0</td>\n",
       "      <td>1</td>\n",
       "      <td>0</td>\n",
       "    </tr>\n",
       "    <tr>\n",
       "      <th>9</th>\n",
       "      <td>1</td>\n",
       "      <td>32.0</td>\n",
       "      <td>51700.0</td>\n",
       "      <td>1</td>\n",
       "      <td>0</td>\n",
       "    </tr>\n",
       "  </tbody>\n",
       "</table>\n",
       "</div>"
      ],
      "text/plain": [
       "   Пол  Возраст  Зарплата  Члены семьи  Страховые выплаты\n",
       "0    1     41.0   49600.0            1                  0\n",
       "1    0     46.0   38000.0            1                  1\n",
       "2    0     29.0   21000.0            0                  0\n",
       "3    0     21.0   41700.0            2                  0\n",
       "4    1     28.0   26100.0            0                  0\n",
       "5    1     43.0   41000.0            2                  1\n",
       "6    1     39.0   39700.0            2                  0\n",
       "7    1     25.0   38600.0            4                  0\n",
       "8    1     36.0   49700.0            1                  0\n",
       "9    1     32.0   51700.0            1                  0"
      ]
     },
     "metadata": {},
     "output_type": "display_data"
    },
    {
     "name": "stdout",
     "output_type": "stream",
     "text": [
      "<class 'pandas.core.frame.DataFrame'>\n",
      "RangeIndex: 5000 entries, 0 to 4999\n",
      "Data columns (total 5 columns):\n",
      " #   Column             Non-Null Count  Dtype  \n",
      "---  ------             --------------  -----  \n",
      " 0   Пол                5000 non-null   int64  \n",
      " 1   Возраст            5000 non-null   float64\n",
      " 2   Зарплата           5000 non-null   float64\n",
      " 3   Члены семьи        5000 non-null   int64  \n",
      " 4   Страховые выплаты  5000 non-null   int64  \n",
      "dtypes: float64(2), int64(3)\n",
      "memory usage: 195.4 KB\n"
     ]
    },
    {
     "data": {
      "text/html": [
       "<div>\n",
       "<style scoped>\n",
       "    .dataframe tbody tr th:only-of-type {\n",
       "        vertical-align: middle;\n",
       "    }\n",
       "\n",
       "    .dataframe tbody tr th {\n",
       "        vertical-align: top;\n",
       "    }\n",
       "\n",
       "    .dataframe thead th {\n",
       "        text-align: right;\n",
       "    }\n",
       "</style>\n",
       "<table border=\"1\" class=\"dataframe\">\n",
       "  <thead>\n",
       "    <tr style=\"text-align: right;\">\n",
       "      <th></th>\n",
       "      <th>Пол</th>\n",
       "      <th>Возраст</th>\n",
       "      <th>Зарплата</th>\n",
       "      <th>Члены семьи</th>\n",
       "      <th>Страховые выплаты</th>\n",
       "    </tr>\n",
       "  </thead>\n",
       "  <tbody>\n",
       "    <tr>\n",
       "      <th>count</th>\n",
       "      <td>5000.000000</td>\n",
       "      <td>5000.000000</td>\n",
       "      <td>5000.000000</td>\n",
       "      <td>5000.000000</td>\n",
       "      <td>5000.000000</td>\n",
       "    </tr>\n",
       "    <tr>\n",
       "      <th>mean</th>\n",
       "      <td>0.499000</td>\n",
       "      <td>30.952800</td>\n",
       "      <td>39916.360000</td>\n",
       "      <td>1.194200</td>\n",
       "      <td>0.148000</td>\n",
       "    </tr>\n",
       "    <tr>\n",
       "      <th>std</th>\n",
       "      <td>0.500049</td>\n",
       "      <td>8.440807</td>\n",
       "      <td>9900.083569</td>\n",
       "      <td>1.091387</td>\n",
       "      <td>0.463183</td>\n",
       "    </tr>\n",
       "    <tr>\n",
       "      <th>min</th>\n",
       "      <td>0.000000</td>\n",
       "      <td>18.000000</td>\n",
       "      <td>5300.000000</td>\n",
       "      <td>0.000000</td>\n",
       "      <td>0.000000</td>\n",
       "    </tr>\n",
       "    <tr>\n",
       "      <th>25%</th>\n",
       "      <td>0.000000</td>\n",
       "      <td>24.000000</td>\n",
       "      <td>33300.000000</td>\n",
       "      <td>0.000000</td>\n",
       "      <td>0.000000</td>\n",
       "    </tr>\n",
       "    <tr>\n",
       "      <th>50%</th>\n",
       "      <td>0.000000</td>\n",
       "      <td>30.000000</td>\n",
       "      <td>40200.000000</td>\n",
       "      <td>1.000000</td>\n",
       "      <td>0.000000</td>\n",
       "    </tr>\n",
       "    <tr>\n",
       "      <th>75%</th>\n",
       "      <td>1.000000</td>\n",
       "      <td>37.000000</td>\n",
       "      <td>46600.000000</td>\n",
       "      <td>2.000000</td>\n",
       "      <td>0.000000</td>\n",
       "    </tr>\n",
       "    <tr>\n",
       "      <th>max</th>\n",
       "      <td>1.000000</td>\n",
       "      <td>65.000000</td>\n",
       "      <td>79000.000000</td>\n",
       "      <td>6.000000</td>\n",
       "      <td>5.000000</td>\n",
       "    </tr>\n",
       "  </tbody>\n",
       "</table>\n",
       "</div>"
      ],
      "text/plain": [
       "               Пол      Возраст      Зарплата  Члены семьи  Страховые выплаты\n",
       "count  5000.000000  5000.000000   5000.000000  5000.000000        5000.000000\n",
       "mean      0.499000    30.952800  39916.360000     1.194200           0.148000\n",
       "std       0.500049     8.440807   9900.083569     1.091387           0.463183\n",
       "min       0.000000    18.000000   5300.000000     0.000000           0.000000\n",
       "25%       0.000000    24.000000  33300.000000     0.000000           0.000000\n",
       "50%       0.000000    30.000000  40200.000000     1.000000           0.000000\n",
       "75%       1.000000    37.000000  46600.000000     2.000000           0.000000\n",
       "max       1.000000    65.000000  79000.000000     6.000000           5.000000"
      ]
     },
     "execution_count": 3,
     "metadata": {},
     "output_type": "execute_result"
    }
   ],
   "source": [
    "display(df.head(10))\n",
    "df.info()\n",
    "df.describe()"
   ]
  },
  {
   "cell_type": "markdown",
   "metadata": {},
   "source": [
    "## Умножение матриц"
   ]
  },
  {
   "cell_type": "markdown",
   "metadata": {},
   "source": [
    "Обозначения:\n",
    "\n",
    "- $X$ — матрица признаков (нулевой столбец состоит из единиц)\n",
    "\n",
    "- $y$ — вектор целевого признака\n",
    "\n",
    "- $P$ — матрица, на которую умножаются признаки\n",
    "\n",
    "- $w$ — вектор весов линейной регрессии (нулевой элемент равен сдвигу)"
   ]
  },
  {
   "cell_type": "markdown",
   "metadata": {},
   "source": [
    "Предсказания:\n",
    "\n",
    "$$\n",
    "a = Xw\n",
    "$$\n",
    "\n",
    "Задача обучения:\n",
    "\n",
    "$$\n",
    "w = \\arg\\min_w MSE(Xw, y)\n",
    "$$\n",
    "\n",
    "Формула обучения:\n",
    "\n",
    "$$\n",
    "w = (X^T X)^{-1} X^T y\n",
    "$$"
   ]
  },
  {
   "attachments": {
    "image.png": {
     "image/png": "[encoded data removed]"
    }
   },
   "cell_type": "markdown",
   "metadata": {},
   "source": [
    "![image.png](attachment:image.png)\n",
    "\n",
    "**Вопрос:**\n",
    "Признаки умножают на обратимую матрицу. Изменится ли качество линейной регрессии? (Её можно обучить заново.)\n",
    "\n",
    "**Ответ:** Не изменится. Попробуем доказать это с помощью формул и преобразований измененного вектора весов.  \n",
    "\n",
    "Пусть $B$ - это случайная обратимая матрица, тогда:\n",
    "$$\n",
    "w1 = ((XB)^T XB)^{-1} (XB)^T y = (B^T X^T XB)^{-1} B^T X^T y = (X^T XB)^{-1} (B^T)^{-1} B^T X^T y = B^{-1} (X^T X)^{-1} X^T y\n",
    "$$\n",
    "\n",
    "Подставим $w1$ в выражение для $а1$:\n",
    "$$\n",
    "a1 = XBB^{-1} (X^T X)^{-1} X^T y = X(X^T X)^{-1} X^T y = a\n",
    "$$\n",
    "Наглядно видно тождество предсказаний в обоих вариантах, с умноженим и без"
   ]
  },
  {
   "cell_type": "markdown",
   "metadata": {},
   "source": [
    "## Алгоритм преобразования\n",
    "\n",
    "Предложите алгоритм преобразования данных для решения задачи. Обоснуйте, почему качество линейной регрессии не поменяется."
   ]
  },
  {
   "cell_type": "markdown",
   "metadata": {},
   "source": [
    "### Описание алгоритма\n",
    "\n",
    "Как и было предложено в предыдущем пункте, в качестве одного из способов преобразования данных можно использовать умножение на обратимую невырожденную матрицу (а также следовательно и квадратную).\n",
    "\n",
    "Обоснование почему качество линейной регресии в данном случае не поменяется, представлено в предыдущем пункте через выведенное тождество векторов предсказаний. \n",
    "\n",
    "Подозреваю, что это далеко не самый продвинутый способ \"шифрования\", но все-таки матрица будет каким-никаким ключом. \n",
    "Размерность матрицы будет равна кол-ву принаков в `features`, то есть shape=(features.shape[1], features.shape[1]).  \n",
    "*Обратимая матрица используется потому, что с помощью умножения на матрицу, обратной матрице-ключу, можно получить исходные признаки*\n",
    "\n",
    "Реализовать такое кодирование можно как с помощью функции, так и заложить свой метод в класс модели (в случае самостоятельной реализации).\n",
    "\n",
    "В качестве аргументов функции задаются непосредственные признаки, которые нужно преобразовать и random_state для возможности воспроизведения кодирования.  \n",
    "\n",
    "На выходе функции преобразованные признаки и матрица-ключ. Можно сохранить имена колонок признаков, но вроде этого не требуется.\n",
    "\n",
    "Внутри функции стоит проверить сгенерированную матрицу на обратимость.\n",
    "\n",
    "По сути описанный алгоритм является [шифром Хилла](https://habr.com/ru/post/595281/)"
   ]
  },
  {
   "cell_type": "code",
   "execution_count": 4,
   "metadata": {},
   "outputs": [],
   "source": [
    "def encoder(features: {pd.core.frame.DataFrame, np.ndarray}, random_state: int):\n",
    "    'умножает матрицу с признаками на сгенерированную обратимую матрицу'\n",
    "    rng = np.random.default_rng(random_state)\n",
    "    key = rng.integers(100, size=(features.shape[1], features.shape[1]))\n",
    "    if np.linalg.det(key) != 0:\n",
    "        features_encoded = features.dot(key)\n",
    "        print('Данные закодированы, ключ сгенерирован')\n",
    "        return features_encoded, key\n",
    "    else:\n",
    "        print('Сгенерированный ключ не имеет обратной матрицы')"
   ]
  },
  {
   "cell_type": "code",
   "execution_count": 5,
   "metadata": {},
   "outputs": [],
   "source": [
    "def encoder_ver2(features: {pd.core.frame.DataFrame, np.ndarray}, random_state: int):\n",
    "    'умножает матрицу с признаками на сгенерированную обратимую матрицу'\n",
    "    rng = np.random.default_rng(random_state)\n",
    "    key = rng.integers(100, size=(features.shape[1], features.shape[1]))\n",
    "    det = np.linalg.det(key)\n",
    "    while det == 0:\n",
    "        print('Сгенерированный ключ не имеет обратной матрицы')\n",
    "        random_state +=1\n",
    "        rng = np.random.default_rng(random_state)\n",
    "        key = rng.integers(100, size=(features.shape[1], features.shape[1]))\n",
    "        det = np.linalg.det(key)\n",
    "    else:\n",
    "        features_encoded = features.dot(key) \n",
    "        print('Данные закодированы, ключ сгенерирован')\n",
    "        return features_encoded, key, random_state\n",
    "    "
   ]
  },
  {
   "cell_type": "code",
   "execution_count": 6,
   "metadata": {},
   "outputs": [
    {
     "name": "stdout",
     "output_type": "stream",
     "text": [
      "Данные закодированы, ключ сгенерирован\n"
     ]
    },
    {
     "data": {
      "text/plain": [
       "(              0          1          2          3          4\n",
       " 0     4120126.0  1639468.0  2780492.0  2930510.0  1043313.0\n",
       " 1     3157722.0  1256990.0  2131240.0  2246663.0   799961.0\n",
       " 2     1745291.0   694856.0  1177943.0  1241842.0   442131.0\n",
       " 3     3462795.0  1377488.0  2336741.0  2462480.0   876707.0\n",
       " 4     2168581.0   863114.0  1463554.0  1542675.0   549212.0\n",
       " ...         ...        ...        ...        ...        ...\n",
       " 4995  2965348.0  1179936.0  2001210.0  2109166.0   750980.0\n",
       " 4996  4351904.0  1731398.0  2936745.0  3094993.0  1101820.0\n",
       " 4997  2815316.0  1120024.0  1899874.0  2002182.0   712868.0\n",
       " 4998  2715961.0  1080596.0  1832953.0  1931670.0   687860.0\n",
       " 4999  3372099.0  1341636.0  2275621.0  2398236.0   853806.0\n",
       " \n",
       " [5000 rows x 5 columns],\n",
       " array([[69, 22, 78, 31, 20],\n",
       "        [79, 64, 67, 98, 39],\n",
       "        [83, 33, 56, 59, 21],\n",
       "        [18, 22, 67, 61, 94],\n",
       "        [70, 24, 91, 94, 73]], dtype=int64),\n",
       " 12345)"
      ]
     },
     "execution_count": 6,
     "metadata": {},
     "output_type": "execute_result"
    }
   ],
   "source": [
    "encoder_ver2(df, RANDOM_STATE)"
   ]
  },
  {
   "cell_type": "code",
   "execution_count": 7,
   "metadata": {
    "scrolled": false
   },
   "outputs": [
    {
     "name": "stdout",
     "output_type": "stream",
     "text": [
      "Данные закодированы, ключ сгенерирован\n"
     ]
    },
    {
     "data": {
      "text/plain": [
       "(              0          1          2          3          4\n",
       " 0     4120126.0  1639468.0  2780492.0  2930510.0  1043313.0\n",
       " 1     3157722.0  1256990.0  2131240.0  2246663.0   799961.0\n",
       " 2     1745291.0   694856.0  1177943.0  1241842.0   442131.0\n",
       " 3     3462795.0  1377488.0  2336741.0  2462480.0   876707.0\n",
       " 4     2168581.0   863114.0  1463554.0  1542675.0   549212.0\n",
       " ...         ...        ...        ...        ...        ...\n",
       " 4995  2965348.0  1179936.0  2001210.0  2109166.0   750980.0\n",
       " 4996  4351904.0  1731398.0  2936745.0  3094993.0  1101820.0\n",
       " 4997  2815316.0  1120024.0  1899874.0  2002182.0   712868.0\n",
       " 4998  2715961.0  1080596.0  1832953.0  1931670.0   687860.0\n",
       " 4999  3372099.0  1341636.0  2275621.0  2398236.0   853806.0\n",
       " \n",
       " [5000 rows x 5 columns],\n",
       " array([[69, 22, 78, 31, 20],\n",
       "        [79, 64, 67, 98, 39],\n",
       "        [83, 33, 56, 59, 21],\n",
       "        [18, 22, 67, 61, 94],\n",
       "        [70, 24, 91, 94, 73]], dtype=int64))"
      ]
     },
     "execution_count": 7,
     "metadata": {},
     "output_type": "execute_result"
    }
   ],
   "source": [
    "# проверим работу функции\n",
    "encoder(df, RANDOM_STATE)"
   ]
  },
  {
   "cell_type": "markdown",
   "metadata": {},
   "source": [
    "На обратимость можно проверить  вот так: Если определитель квадратной матрицы P не равен нулю, значит у нее есть обратная.\n",
    "    \n",
    "Если проверка не пройдена - надо как то сгенерировать новую матрицу. В таком случаее изменяем random_state и подаем его на выход функции."
   ]
  },
  {
   "cell_type": "code",
   "execution_count": null,
   "metadata": {},
   "outputs": [],
   "source": [
    "#КОД РЕВЬЮЕРА\n",
    "# если тебе RANDOM_STATE не нужен, то сделай, вот так: _ - типа как заглушка\n",
    "features_encoded, key, _ = encoder_ver2(faetures, RANDOM_STATE)\n",
    "\n",
    "# Ну или так, если тебе нужно использовать. \n",
    "features_encoded, key, random = encoder_ver2(faetures, RANDOM_STATE)"
   ]
  },
  {
   "cell_type": "markdown",
   "metadata": {},
   "source": [
    "## Проверка алгоритма\n",
    "Запрограммируйте этот алгоритм, применив матричные операции. Проверьте, что качество линейной регрессии из sklearn не отличается до и после преобразования. Примените метрику R2.\n",
    "\n",
    "\n",
    "Выполнено в предыдущем пункте"
   ]
  },
  {
   "cell_type": "code",
   "execution_count": 8,
   "metadata": {},
   "outputs": [],
   "source": [
    "# разобьем исходный датасет на выборки\n",
    "features = df.drop('Страховые выплаты', axis=1)\n",
    "target = df['Страховые выплаты']"
   ]
  },
  {
   "cell_type": "code",
   "execution_count": 9,
   "metadata": {},
   "outputs": [
    {
     "name": "stdout",
     "output_type": "stream",
     "text": [
      "(4000, 4)\n",
      "(1000, 4)\n",
      "(4000,)\n",
      "(1000,)\n"
     ]
    }
   ],
   "source": [
    "features_train, features_test, target_train, target_test = train_test_split(\n",
    "    features, target, test_size=0.2, random_state=RANDOM_STATE)\n",
    "print(features_train.shape, features_test.shape, target_train.shape, target_test.shape, sep='\\n')"
   ]
  },
  {
   "cell_type": "markdown",
   "metadata": {},
   "source": [
    "### Кодирование"
   ]
  },
  {
   "cell_type": "code",
   "execution_count": 10,
   "metadata": {
    "scrolled": false
   },
   "outputs": [
    {
     "name": "stdout",
     "output_type": "stream",
     "text": [
      "Данные закодированы, ключ сгенерирован\n"
     ]
    },
    {
     "data": {
      "text/html": [
       "<div>\n",
       "<style scoped>\n",
       "    .dataframe tbody tr th:only-of-type {\n",
       "        vertical-align: middle;\n",
       "    }\n",
       "\n",
       "    .dataframe tbody tr th {\n",
       "        vertical-align: top;\n",
       "    }\n",
       "\n",
       "    .dataframe thead th {\n",
       "        text-align: right;\n",
       "    }\n",
       "</style>\n",
       "<table border=\"1\" class=\"dataframe\">\n",
       "  <thead>\n",
       "    <tr style=\"text-align: right;\">\n",
       "      <th></th>\n",
       "      <th>0</th>\n",
       "      <th>1</th>\n",
       "      <th>2</th>\n",
       "      <th>3</th>\n",
       "    </tr>\n",
       "  </thead>\n",
       "  <tbody>\n",
       "    <tr>\n",
       "      <th>317</th>\n",
       "      <td>3900912.0</td>\n",
       "      <td>1553898.0</td>\n",
       "      <td>3304722.0</td>\n",
       "      <td>1314776.0</td>\n",
       "    </tr>\n",
       "    <tr>\n",
       "      <th>4143</th>\n",
       "      <td>3352469.0</td>\n",
       "      <td>1336982.0</td>\n",
       "      <td>2841238.0</td>\n",
       "      <td>1131311.0</td>\n",
       "    </tr>\n",
       "    <tr>\n",
       "      <th>4252</th>\n",
       "      <td>4979425.0</td>\n",
       "      <td>1984836.0</td>\n",
       "      <td>4219379.0</td>\n",
       "      <td>1679464.0</td>\n",
       "    </tr>\n",
       "    <tr>\n",
       "      <th>710</th>\n",
       "      <td>3832472.0</td>\n",
       "      <td>1527230.0</td>\n",
       "      <td>3247134.0</td>\n",
       "      <td>1292212.0</td>\n",
       "    </tr>\n",
       "    <tr>\n",
       "      <th>148</th>\n",
       "      <td>3822616.0</td>\n",
       "      <td>1523271.0</td>\n",
       "      <td>3238813.0</td>\n",
       "      <td>1288894.0</td>\n",
       "    </tr>\n",
       "    <tr>\n",
       "      <th>...</th>\n",
       "      <td>...</td>\n",
       "      <td>...</td>\n",
       "      <td>...</td>\n",
       "      <td>...</td>\n",
       "    </tr>\n",
       "    <tr>\n",
       "      <th>3497</th>\n",
       "      <td>3146640.0</td>\n",
       "      <td>1255218.0</td>\n",
       "      <td>2666988.0</td>\n",
       "      <td>1062114.0</td>\n",
       "    </tr>\n",
       "    <tr>\n",
       "      <th>3492</th>\n",
       "      <td>2225384.0</td>\n",
       "      <td>887748.0</td>\n",
       "      <td>1885976.0</td>\n",
       "      <td>751048.0</td>\n",
       "    </tr>\n",
       "    <tr>\n",
       "      <th>2177</th>\n",
       "      <td>4381545.0</td>\n",
       "      <td>1746620.0</td>\n",
       "      <td>3712823.0</td>\n",
       "      <td>1477896.0</td>\n",
       "    </tr>\n",
       "    <tr>\n",
       "      <th>3557</th>\n",
       "      <td>4910464.0</td>\n",
       "      <td>1955874.0</td>\n",
       "      <td>4159792.0</td>\n",
       "      <td>1654846.0</td>\n",
       "    </tr>\n",
       "    <tr>\n",
       "      <th>4578</th>\n",
       "      <td>3998780.0</td>\n",
       "      <td>1592701.0</td>\n",
       "      <td>3387616.0</td>\n",
       "      <td>1347673.0</td>\n",
       "    </tr>\n",
       "  </tbody>\n",
       "</table>\n",
       "<p>4000 rows × 4 columns</p>\n",
       "</div>"
      ],
      "text/plain": [
       "              0          1          2          3\n",
       "317   3900912.0  1553898.0  3304722.0  1314776.0\n",
       "4143  3352469.0  1336982.0  2841238.0  1131311.0\n",
       "4252  4979425.0  1984836.0  4219379.0  1679464.0\n",
       "710   3832472.0  1527230.0  3247134.0  1292212.0\n",
       "148   3822616.0  1523271.0  3238813.0  1288894.0\n",
       "...         ...        ...        ...        ...\n",
       "3497  3146640.0  1255218.0  2666988.0  1062114.0\n",
       "3492  2225384.0   887748.0  1885976.0   751048.0\n",
       "2177  4381545.0  1746620.0  3712823.0  1477896.0\n",
       "3557  4910464.0  1955874.0  4159792.0  1654846.0\n",
       "4578  3998780.0  1592701.0  3387616.0  1347673.0\n",
       "\n",
       "[4000 rows x 4 columns]"
      ]
     },
     "metadata": {},
     "output_type": "display_data"
    },
    {
     "data": {
      "text/plain": [
       "array([[69, 22, 78, 31],\n",
       "       [20, 79, 64, 67],\n",
       "       [98, 39, 83, 33],\n",
       "       [56, 59, 21, 18]], dtype=int64)"
      ]
     },
     "execution_count": 10,
     "metadata": {},
     "output_type": "execute_result"
    }
   ],
   "source": [
    "# преобразуем тренировочную выборку\n",
    "features_train_encoded, key_train = encoder(features_train, RANDOM_STATE) \n",
    "display(features_train_encoded)\n",
    "key_train"
   ]
  },
  {
   "cell_type": "code",
   "execution_count": 11,
   "metadata": {},
   "outputs": [
    {
     "data": {
      "text/plain": [
       "784099.0000000031"
      ]
     },
     "execution_count": 11,
     "metadata": {},
     "output_type": "execute_result"
    }
   ],
   "source": [
    "np.linalg.det(key_train)"
   ]
  },
  {
   "cell_type": "markdown",
   "metadata": {},
   "source": [
    "### Декодирование"
   ]
  },
  {
   "cell_type": "code",
   "execution_count": 12,
   "metadata": {},
   "outputs": [
    {
     "data": {
      "text/html": [
       "<div>\n",
       "<style scoped>\n",
       "    .dataframe tbody tr th:only-of-type {\n",
       "        vertical-align: middle;\n",
       "    }\n",
       "\n",
       "    .dataframe tbody tr th {\n",
       "        vertical-align: top;\n",
       "    }\n",
       "\n",
       "    .dataframe thead th {\n",
       "        text-align: right;\n",
       "    }\n",
       "</style>\n",
       "<table border=\"1\" class=\"dataframe\">\n",
       "  <thead>\n",
       "    <tr style=\"text-align: right;\">\n",
       "      <th></th>\n",
       "      <th>0</th>\n",
       "      <th>1</th>\n",
       "      <th>2</th>\n",
       "      <th>3</th>\n",
       "    </tr>\n",
       "  </thead>\n",
       "  <tbody>\n",
       "    <tr>\n",
       "      <th>317</th>\n",
       "      <td>2.986900e-11</td>\n",
       "      <td>20.0</td>\n",
       "      <td>39800.0</td>\n",
       "      <td>2.000000e+00</td>\n",
       "    </tr>\n",
       "    <tr>\n",
       "      <th>4143</th>\n",
       "      <td>1.000000e+00</td>\n",
       "      <td>40.0</td>\n",
       "      <td>34200.0</td>\n",
       "      <td>2.301839e-11</td>\n",
       "    </tr>\n",
       "    <tr>\n",
       "      <th>4252</th>\n",
       "      <td>1.000000e+00</td>\n",
       "      <td>45.0</td>\n",
       "      <td>50800.0</td>\n",
       "      <td>1.000000e+00</td>\n",
       "    </tr>\n",
       "    <tr>\n",
       "      <th>710</th>\n",
       "      <td>2.473688e-11</td>\n",
       "      <td>28.0</td>\n",
       "      <td>39100.0</td>\n",
       "      <td>2.000000e+00</td>\n",
       "    </tr>\n",
       "    <tr>\n",
       "      <th>148</th>\n",
       "      <td>-6.744127e-11</td>\n",
       "      <td>28.0</td>\n",
       "      <td>39000.0</td>\n",
       "      <td>1.000000e+00</td>\n",
       "    </tr>\n",
       "    <tr>\n",
       "      <th>3938</th>\n",
       "      <td>1.000000e+00</td>\n",
       "      <td>23.0</td>\n",
       "      <td>32200.0</td>\n",
       "      <td>1.000000e+00</td>\n",
       "    </tr>\n",
       "    <tr>\n",
       "      <th>1573</th>\n",
       "      <td>1.288109e-11</td>\n",
       "      <td>27.0</td>\n",
       "      <td>36600.0</td>\n",
       "      <td>2.000000e+00</td>\n",
       "    </tr>\n",
       "    <tr>\n",
       "      <th>1060</th>\n",
       "      <td>1.000000e+00</td>\n",
       "      <td>42.0</td>\n",
       "      <td>43700.0</td>\n",
       "      <td>3.000000e+00</td>\n",
       "    </tr>\n",
       "    <tr>\n",
       "      <th>1911</th>\n",
       "      <td>-8.041673e-11</td>\n",
       "      <td>29.0</td>\n",
       "      <td>40900.0</td>\n",
       "      <td>1.000000e+00</td>\n",
       "    </tr>\n",
       "    <tr>\n",
       "      <th>504</th>\n",
       "      <td>-5.033901e-11</td>\n",
       "      <td>21.0</td>\n",
       "      <td>35100.0</td>\n",
       "      <td>5.000000e+00</td>\n",
       "    </tr>\n",
       "  </tbody>\n",
       "</table>\n",
       "</div>"
      ],
      "text/plain": [
       "                 0     1        2             3\n",
       "317   2.986900e-11  20.0  39800.0  2.000000e+00\n",
       "4143  1.000000e+00  40.0  34200.0  2.301839e-11\n",
       "4252  1.000000e+00  45.0  50800.0  1.000000e+00\n",
       "710   2.473688e-11  28.0  39100.0  2.000000e+00\n",
       "148  -6.744127e-11  28.0  39000.0  1.000000e+00\n",
       "3938  1.000000e+00  23.0  32200.0  1.000000e+00\n",
       "1573  1.288109e-11  27.0  36600.0  2.000000e+00\n",
       "1060  1.000000e+00  42.0  43700.0  3.000000e+00\n",
       "1911 -8.041673e-11  29.0  40900.0  1.000000e+00\n",
       "504  -5.033901e-11  21.0  35100.0  5.000000e+00"
      ]
     },
     "metadata": {},
     "output_type": "display_data"
    },
    {
     "data": {
      "text/html": [
       "<div>\n",
       "<style scoped>\n",
       "    .dataframe tbody tr th:only-of-type {\n",
       "        vertical-align: middle;\n",
       "    }\n",
       "\n",
       "    .dataframe tbody tr th {\n",
       "        vertical-align: top;\n",
       "    }\n",
       "\n",
       "    .dataframe thead th {\n",
       "        text-align: right;\n",
       "    }\n",
       "</style>\n",
       "<table border=\"1\" class=\"dataframe\">\n",
       "  <thead>\n",
       "    <tr style=\"text-align: right;\">\n",
       "      <th></th>\n",
       "      <th>Пол</th>\n",
       "      <th>Возраст</th>\n",
       "      <th>Зарплата</th>\n",
       "      <th>Члены семьи</th>\n",
       "    </tr>\n",
       "  </thead>\n",
       "  <tbody>\n",
       "    <tr>\n",
       "      <th>317</th>\n",
       "      <td>0</td>\n",
       "      <td>20.0</td>\n",
       "      <td>39800.0</td>\n",
       "      <td>2</td>\n",
       "    </tr>\n",
       "    <tr>\n",
       "      <th>4143</th>\n",
       "      <td>1</td>\n",
       "      <td>40.0</td>\n",
       "      <td>34200.0</td>\n",
       "      <td>0</td>\n",
       "    </tr>\n",
       "    <tr>\n",
       "      <th>4252</th>\n",
       "      <td>1</td>\n",
       "      <td>45.0</td>\n",
       "      <td>50800.0</td>\n",
       "      <td>1</td>\n",
       "    </tr>\n",
       "    <tr>\n",
       "      <th>710</th>\n",
       "      <td>0</td>\n",
       "      <td>28.0</td>\n",
       "      <td>39100.0</td>\n",
       "      <td>2</td>\n",
       "    </tr>\n",
       "    <tr>\n",
       "      <th>148</th>\n",
       "      <td>0</td>\n",
       "      <td>28.0</td>\n",
       "      <td>39000.0</td>\n",
       "      <td>1</td>\n",
       "    </tr>\n",
       "    <tr>\n",
       "      <th>3938</th>\n",
       "      <td>1</td>\n",
       "      <td>23.0</td>\n",
       "      <td>32200.0</td>\n",
       "      <td>1</td>\n",
       "    </tr>\n",
       "    <tr>\n",
       "      <th>1573</th>\n",
       "      <td>0</td>\n",
       "      <td>27.0</td>\n",
       "      <td>36600.0</td>\n",
       "      <td>2</td>\n",
       "    </tr>\n",
       "    <tr>\n",
       "      <th>1060</th>\n",
       "      <td>1</td>\n",
       "      <td>42.0</td>\n",
       "      <td>43700.0</td>\n",
       "      <td>3</td>\n",
       "    </tr>\n",
       "    <tr>\n",
       "      <th>1911</th>\n",
       "      <td>0</td>\n",
       "      <td>29.0</td>\n",
       "      <td>40900.0</td>\n",
       "      <td>1</td>\n",
       "    </tr>\n",
       "    <tr>\n",
       "      <th>504</th>\n",
       "      <td>0</td>\n",
       "      <td>21.0</td>\n",
       "      <td>35100.0</td>\n",
       "      <td>5</td>\n",
       "    </tr>\n",
       "  </tbody>\n",
       "</table>\n",
       "</div>"
      ],
      "text/plain": [
       "      Пол  Возраст  Зарплата  Члены семьи\n",
       "317     0     20.0   39800.0            2\n",
       "4143    1     40.0   34200.0            0\n",
       "4252    1     45.0   50800.0            1\n",
       "710     0     28.0   39100.0            2\n",
       "148     0     28.0   39000.0            1\n",
       "3938    1     23.0   32200.0            1\n",
       "1573    0     27.0   36600.0            2\n",
       "1060    1     42.0   43700.0            3\n",
       "1911    0     29.0   40900.0            1\n",
       "504     0     21.0   35100.0            5"
      ]
     },
     "execution_count": 12,
     "metadata": {},
     "output_type": "execute_result"
    }
   ],
   "source": [
    "# попробуем декодировать преобразованную тренировочную выборку\n",
    "display(features_train_encoded.dot(np.linalg.inv(key_train)).head(10))\n",
    "features_train.head(10)"
   ]
  },
  {
   "cell_type": "markdown",
   "metadata": {},
   "source": [
    "**Вывод:**  \n",
    "Нули при при декодировании стали близкими к нулю значениями, добавился некоторый шум.  \n",
    "Но в остальном вроде работает."
   ]
  },
  {
   "cell_type": "markdown",
   "metadata": {},
   "source": [
    "### Проверка на модели ML"
   ]
  },
  {
   "cell_type": "code",
   "execution_count": 13,
   "metadata": {},
   "outputs": [
    {
     "data": {
      "text/plain": [
       "0.4273414981919863"
      ]
     },
     "execution_count": 13,
     "metadata": {},
     "output_type": "execute_result"
    }
   ],
   "source": [
    "# посмотрим на метрики для исходных признаков\n",
    "model_lr_1 = LinearRegression().fit(features_train, target_train)\n",
    "predictions_1 = model_lr_1.predict(features_train)\n",
    "r2_score(target_train, predictions_1)"
   ]
  },
  {
   "cell_type": "code",
   "execution_count": 14,
   "metadata": {},
   "outputs": [
    {
     "data": {
      "text/plain": [
       "0.41176839567705004"
      ]
     },
     "execution_count": 14,
     "metadata": {},
     "output_type": "execute_result"
    }
   ],
   "source": [
    "# на тестовой выборке\n",
    "r2_score(target_test, model_lr_1.predict(features_test))"
   ]
  },
  {
   "cell_type": "code",
   "execution_count": 15,
   "metadata": {},
   "outputs": [
    {
     "data": {
      "text/plain": [
       "0.42734149819197975"
      ]
     },
     "execution_count": 15,
     "metadata": {},
     "output_type": "execute_result"
    }
   ],
   "source": [
    "# теперь посмотрим на метрику R2 при обучении на преобразованных признаках\n",
    "model_lr_2 = LinearRegression().fit(features_train_encoded, target_train)\n",
    "predictions_2 = model_lr_2.predict(features_train_encoded)\n",
    "r2_score(target_train, predictions_2)"
   ]
  },
  {
   "cell_type": "code",
   "execution_count": 16,
   "metadata": {},
   "outputs": [
    {
     "name": "stderr",
     "output_type": "stream",
     "text": [
      "C:\\Users\\Danil\\AppData\\Roaming\\Python\\Python37\\site-packages\\sklearn\\base.py:444: UserWarning: X has feature names, but LinearRegression was fitted without feature names\n",
      "  f\"X has feature names, but {self.__class__.__name__} was fitted without\"\n"
     ]
    },
    {
     "data": {
      "text/plain": [
       "-623.2075352261694"
      ]
     },
     "execution_count": 16,
     "metadata": {},
     "output_type": "execute_result"
    }
   ],
   "source": [
    "# на тестовой выборке\n",
    "r2_score(target_test, model_lr_2.predict(features_test))"
   ]
  },
  {
   "cell_type": "markdown",
   "metadata": {},
   "source": [
    "Судя по всему обученную на преобразованных признаках модель некорректно использовать для непреобразованной тестовой выборки.\n",
    "\n",
    "Преобразуем также тестовою выборку"
   ]
  },
  {
   "cell_type": "code",
   "execution_count": 17,
   "metadata": {},
   "outputs": [
    {
     "name": "stdout",
     "output_type": "stream",
     "text": [
      "Данные закодированы, ключ сгенерирован\n"
     ]
    }
   ],
   "source": [
    "features_test_encoded, key_test = encoder(features_test, RANDOM_STATE)\n"
   ]
  },
  {
   "cell_type": "code",
   "execution_count": 18,
   "metadata": {},
   "outputs": [
    {
     "data": {
      "text/plain": [
       "0.4117683956770455"
      ]
     },
     "execution_count": 18,
     "metadata": {},
     "output_type": "execute_result"
    }
   ],
   "source": [
    "# еще раз проверим R2 на тестовой выборке\n",
    "r2_score(target_test, model_lr_2.predict(features_test_encoded))"
   ]
  },
  {
   "cell_type": "markdown",
   "metadata": {},
   "source": [
    "**Вывод:**  \n",
    "Качество модели на основе метрики R2 до преобразования соответствует качеству после.  "
   ]
  }
 ],
 "metadata": {
  "kernelspec": {
   "display_name": "Python 3 (ipykernel)",
   "language": "python",
   "name": "python3"
  },
  "language_info": {
   "codemirror_mode": {
    "name": "ipython",
    "version": 3
   },
   "file_extension": ".py",
   "mimetype": "text/x-python",
   "name": "python",
   "nbconvert_exporter": "python",
   "pygments_lexer": "ipython3",
   "version": "3.7.8"
  },
  "toc": {
   "base_numbering": 1,
   "nav_menu": {},
   "number_sections": true,
   "sideBar": true,
   "skip_h1_title": true,
   "title_cell": "Содержание",
   "title_sidebar": "Contents",
   "toc_cell": true,
   "toc_position": {
    "height": "calc(100% - 180px)",
    "left": "10px",
    "top": "150px",
    "width": "217.825px"
   },
   "toc_section_display": true,
   "toc_window_display": true
  }
 },
 "nbformat": 4,
 "nbformat_minor": 2
}
